{
 "cells": [
  {
   "cell_type": "markdown",
   "metadata": {},
   "source": [
    "# Exploration of the King County Housing Dataset\n",
    "\n",
    "My goal in this notebook is to provide plauseable insight into ways a homeowner can make renovations to their current home in order to make it more attactive to buyers and/or sell for a high price.\n",
    "\n",
    "Let's first import some tools and take our first look at the dataset"
   ]
  },
  {
   "cell_type": "code",
   "execution_count": 143,
   "metadata": {
    "scrolled": true
   },
   "outputs": [
    {
     "data": {
      "text/html": [
       "<div>\n",
       "<style scoped>\n",
       "    .dataframe tbody tr th:only-of-type {\n",
       "        vertical-align: middle;\n",
       "    }\n",
       "\n",
       "    .dataframe tbody tr th {\n",
       "        vertical-align: top;\n",
       "    }\n",
       "\n",
       "    .dataframe thead th {\n",
       "        text-align: right;\n",
       "    }\n",
       "</style>\n",
       "<table border=\"1\" class=\"dataframe\">\n",
       "  <thead>\n",
       "    <tr style=\"text-align: right;\">\n",
       "      <th></th>\n",
       "      <th>id</th>\n",
       "      <th>date</th>\n",
       "      <th>price</th>\n",
       "      <th>bedrooms</th>\n",
       "      <th>bathrooms</th>\n",
       "      <th>sqft_living</th>\n",
       "      <th>sqft_lot</th>\n",
       "      <th>floors</th>\n",
       "      <th>waterfront</th>\n",
       "      <th>view</th>\n",
       "      <th>condition</th>\n",
       "      <th>grade</th>\n",
       "      <th>sqft_above</th>\n",
       "      <th>sqft_basement</th>\n",
       "      <th>yr_built</th>\n",
       "      <th>yr_renovated</th>\n",
       "      <th>zipcode</th>\n",
       "      <th>lat</th>\n",
       "      <th>long</th>\n",
       "      <th>sqft_living15</th>\n",
       "      <th>sqft_lot15</th>\n",
       "    </tr>\n",
       "  </thead>\n",
       "  <tbody>\n",
       "    <tr>\n",
       "      <th>0</th>\n",
       "      <td>7129300520</td>\n",
       "      <td>10/13/2014</td>\n",
       "      <td>221900.0</td>\n",
       "      <td>3</td>\n",
       "      <td>1.00</td>\n",
       "      <td>1180</td>\n",
       "      <td>5650</td>\n",
       "      <td>1.0</td>\n",
       "      <td>NaN</td>\n",
       "      <td>0.0</td>\n",
       "      <td>3</td>\n",
       "      <td>7</td>\n",
       "      <td>1180</td>\n",
       "      <td>0.0</td>\n",
       "      <td>1955</td>\n",
       "      <td>0.0</td>\n",
       "      <td>98178</td>\n",
       "      <td>47.5112</td>\n",
       "      <td>-122.257</td>\n",
       "      <td>1340</td>\n",
       "      <td>5650</td>\n",
       "    </tr>\n",
       "    <tr>\n",
       "      <th>1</th>\n",
       "      <td>6414100192</td>\n",
       "      <td>12/9/2014</td>\n",
       "      <td>538000.0</td>\n",
       "      <td>3</td>\n",
       "      <td>2.25</td>\n",
       "      <td>2570</td>\n",
       "      <td>7242</td>\n",
       "      <td>2.0</td>\n",
       "      <td>0.0</td>\n",
       "      <td>0.0</td>\n",
       "      <td>3</td>\n",
       "      <td>7</td>\n",
       "      <td>2170</td>\n",
       "      <td>400.0</td>\n",
       "      <td>1951</td>\n",
       "      <td>1991.0</td>\n",
       "      <td>98125</td>\n",
       "      <td>47.7210</td>\n",
       "      <td>-122.319</td>\n",
       "      <td>1690</td>\n",
       "      <td>7639</td>\n",
       "    </tr>\n",
       "    <tr>\n",
       "      <th>2</th>\n",
       "      <td>5631500400</td>\n",
       "      <td>2/25/2015</td>\n",
       "      <td>180000.0</td>\n",
       "      <td>2</td>\n",
       "      <td>1.00</td>\n",
       "      <td>770</td>\n",
       "      <td>10000</td>\n",
       "      <td>1.0</td>\n",
       "      <td>0.0</td>\n",
       "      <td>0.0</td>\n",
       "      <td>3</td>\n",
       "      <td>6</td>\n",
       "      <td>770</td>\n",
       "      <td>0.0</td>\n",
       "      <td>1933</td>\n",
       "      <td>NaN</td>\n",
       "      <td>98028</td>\n",
       "      <td>47.7379</td>\n",
       "      <td>-122.233</td>\n",
       "      <td>2720</td>\n",
       "      <td>8062</td>\n",
       "    </tr>\n",
       "    <tr>\n",
       "      <th>3</th>\n",
       "      <td>2487200875</td>\n",
       "      <td>12/9/2014</td>\n",
       "      <td>604000.0</td>\n",
       "      <td>4</td>\n",
       "      <td>3.00</td>\n",
       "      <td>1960</td>\n",
       "      <td>5000</td>\n",
       "      <td>1.0</td>\n",
       "      <td>0.0</td>\n",
       "      <td>0.0</td>\n",
       "      <td>5</td>\n",
       "      <td>7</td>\n",
       "      <td>1050</td>\n",
       "      <td>910.0</td>\n",
       "      <td>1965</td>\n",
       "      <td>0.0</td>\n",
       "      <td>98136</td>\n",
       "      <td>47.5208</td>\n",
       "      <td>-122.393</td>\n",
       "      <td>1360</td>\n",
       "      <td>5000</td>\n",
       "    </tr>\n",
       "    <tr>\n",
       "      <th>4</th>\n",
       "      <td>1954400510</td>\n",
       "      <td>2/18/2015</td>\n",
       "      <td>510000.0</td>\n",
       "      <td>3</td>\n",
       "      <td>2.00</td>\n",
       "      <td>1680</td>\n",
       "      <td>8080</td>\n",
       "      <td>1.0</td>\n",
       "      <td>0.0</td>\n",
       "      <td>0.0</td>\n",
       "      <td>3</td>\n",
       "      <td>8</td>\n",
       "      <td>1680</td>\n",
       "      <td>0.0</td>\n",
       "      <td>1987</td>\n",
       "      <td>0.0</td>\n",
       "      <td>98074</td>\n",
       "      <td>47.6168</td>\n",
       "      <td>-122.045</td>\n",
       "      <td>1800</td>\n",
       "      <td>7503</td>\n",
       "    </tr>\n",
       "  </tbody>\n",
       "</table>\n",
       "</div>"
      ],
      "text/plain": [
       "           id        date     price  bedrooms  bathrooms  sqft_living  \\\n",
       "0  7129300520  10/13/2014  221900.0         3       1.00         1180   \n",
       "1  6414100192   12/9/2014  538000.0         3       2.25         2570   \n",
       "2  5631500400   2/25/2015  180000.0         2       1.00          770   \n",
       "3  2487200875   12/9/2014  604000.0         4       3.00         1960   \n",
       "4  1954400510   2/18/2015  510000.0         3       2.00         1680   \n",
       "\n",
       "   sqft_lot  floors  waterfront  view  condition  grade  sqft_above  \\\n",
       "0      5650     1.0         NaN   0.0          3      7        1180   \n",
       "1      7242     2.0         0.0   0.0          3      7        2170   \n",
       "2     10000     1.0         0.0   0.0          3      6         770   \n",
       "3      5000     1.0         0.0   0.0          5      7        1050   \n",
       "4      8080     1.0         0.0   0.0          3      8        1680   \n",
       "\n",
       "  sqft_basement  yr_built  yr_renovated  zipcode      lat     long  \\\n",
       "0           0.0      1955           0.0    98178  47.5112 -122.257   \n",
       "1         400.0      1951        1991.0    98125  47.7210 -122.319   \n",
       "2           0.0      1933           NaN    98028  47.7379 -122.233   \n",
       "3         910.0      1965           0.0    98136  47.5208 -122.393   \n",
       "4           0.0      1987           0.0    98074  47.6168 -122.045   \n",
       "\n",
       "   sqft_living15  sqft_lot15  \n",
       "0           1340        5650  \n",
       "1           1690        7639  \n",
       "2           2720        8062  \n",
       "3           1360        5000  \n",
       "4           1800        7503  "
      ]
     },
     "execution_count": 143,
     "metadata": {},
     "output_type": "execute_result"
    }
   ],
   "source": [
    "import pandas as pd\n",
    "pd.set_option('display.max_columns', 50)\n",
    "import numpy as np\n",
    "import seaborn as sns\n",
    "import matplotlib.pyplot as plt\n",
    "import statsmodels.api as sm\n",
    "from sklearn.preprocessing import StandardScaler, MinMaxScaler, RobustScaler\n",
    "from sklearn.model_selection import train_test_split\n",
    "from sklearn.linear_model import LinearRegression\n",
    "from sklearn.metrics import r2_score, mean_squared_error\n",
    "%matplotlib inline\n",
    "df = pd.read_csv(\"data/kc_house_data.csv\")\n",
    "df.head(5)"
   ]
  },
  {
   "cell_type": "code",
   "execution_count": 144,
   "metadata": {},
   "outputs": [
    {
     "data": {
      "text/plain": [
       "['id',\n",
       " 'date',\n",
       " 'price',\n",
       " 'bedrooms',\n",
       " 'bathrooms',\n",
       " 'sqft_living',\n",
       " 'sqft_lot',\n",
       " 'floors',\n",
       " 'waterfront',\n",
       " 'view',\n",
       " 'condition',\n",
       " 'grade',\n",
       " 'sqft_above',\n",
       " 'sqft_basement',\n",
       " 'yr_built',\n",
       " 'yr_renovated',\n",
       " 'zipcode',\n",
       " 'lat',\n",
       " 'long',\n",
       " 'sqft_living15',\n",
       " 'sqft_lot15']"
      ]
     },
     "execution_count": 144,
     "metadata": {},
     "output_type": "execute_result"
    }
   ],
   "source": [
    "# This code is to give a print() of all cloumns in the dataset\n",
    "# in a vertical format\n",
    "# since there are too many columns to show in the df in one place\n",
    "# warpped code\n",
    "\n",
    "dfList = list(df.columns)\n",
    "dfList"
   ]
  },
  {
   "cell_type": "markdown",
   "metadata": {},
   "source": [
    "# Cleaning and Prepping the data \n",
    "\n",
    "Sweet. Now that we can get a good look at what we're working with we will start to clean the data a bit to get it ready for modeling. First, we can already start to eliminate some columns that are irrelevant.\n",
    "Here's what we can get rid of:\n",
    "\n",
    "- **id** - the specific id of the house doesn't matter, we just need the data from it to make a model\n",
    "- **date** - like id, date sold doesn't matter, we just need the data about the house to make a model\n",
    "- **view** - this is not about the view from the house but how many times it had been view. Not particularly useful\n",
    "- **zipcode** - this is only helpful if we have information about how safe the neighborhood is. We do not so we will ignore this one\n",
    "- **lat** - latitude of the house isn't quite as usful as an address\n",
    "- **long** - like with lat, longitude of a house isn't quite as usful as an address\n",
    "* **sqft_living15** - The square footage of interior housing living space for the nearest 15 neighbors. Not usful\n",
    "* **sqft_lot15** - The square footage of the land lots of the nearest 15 neighbors. Not usful"
   ]
  },
  {
   "cell_type": "code",
   "execution_count": 145,
   "metadata": {},
   "outputs": [],
   "source": [
    "df.drop(['id', 'date', 'view', 'zipcode', 'lat', 'long', 'sqft_living15', 'sqft_lot15'], axis=1, inplace=True)"
   ]
  },
  {
   "cell_type": "code",
   "execution_count": 146,
   "metadata": {},
   "outputs": [
    {
     "data": {
      "text/plain": [
       "['price',\n",
       " 'bedrooms',\n",
       " 'bathrooms',\n",
       " 'sqft_living',\n",
       " 'sqft_lot',\n",
       " 'floors',\n",
       " 'waterfront',\n",
       " 'condition',\n",
       " 'grade',\n",
       " 'sqft_above',\n",
       " 'sqft_basement',\n",
       " 'yr_built',\n",
       " 'yr_renovated']"
      ]
     },
     "execution_count": 146,
     "metadata": {},
     "output_type": "execute_result"
    }
   ],
   "source": [
    "dfListDrop = list(df.columns)\n",
    "dfListDrop"
   ]
  },
  {
   "cell_type": "markdown",
   "metadata": {},
   "source": [
    "Awesome! Now, let's take a look at our data and see if any columns have NaN (missing) values that might get in the way."
   ]
  },
  {
   "cell_type": "code",
   "execution_count": 147,
   "metadata": {
    "scrolled": true
   },
   "outputs": [
    {
     "data": {
      "text/plain": [
       "price               0\n",
       "bedrooms            0\n",
       "bathrooms           0\n",
       "sqft_living         0\n",
       "sqft_lot            0\n",
       "floors              0\n",
       "waterfront       2376\n",
       "condition           0\n",
       "grade               0\n",
       "sqft_above          0\n",
       "sqft_basement       0\n",
       "yr_built            0\n",
       "yr_renovated     3842\n",
       "dtype: int64"
      ]
     },
     "execution_count": 147,
     "metadata": {},
     "output_type": "execute_result"
    }
   ],
   "source": [
    "df.isna().sum()"
   ]
  },
  {
   "cell_type": "markdown",
   "metadata": {},
   "source": [
    "Okay, it looks like we have a couple. Let's take a closer look..."
   ]
  },
  {
   "cell_type": "code",
   "execution_count": 148,
   "metadata": {},
   "outputs": [
    {
     "name": "stdout",
     "output_type": "stream",
     "text": [
      "0.0    19075\n",
      "1.0      146\n",
      "Name: waterfront, dtype: int64\n",
      "column \"waterfront\" has 2376 NaNRRR values\n"
     ]
    }
   ],
   "source": [
    "print(df['waterfront'].value_counts())\n",
    "print('column \"waterfront\" has', df['waterfront'].isna().sum(), 'NaNRRR values')"
   ]
  },
  {
   "cell_type": "code",
   "execution_count": 149,
   "metadata": {},
   "outputs": [
    {
     "name": "stdout",
     "output_type": "stream",
     "text": [
      "0.0       17011\n",
      "2014.0       73\n",
      "2003.0       31\n",
      "2013.0       31\n",
      "2007.0       30\n",
      "          ...  \n",
      "1946.0        1\n",
      "1959.0        1\n",
      "1971.0        1\n",
      "1951.0        1\n",
      "1954.0        1\n",
      "Name: yr_renovated, Length: 70, dtype: int64\n",
      "column \"yr_renovated\" has 3842 NaN values\n"
     ]
    }
   ],
   "source": [
    "print(df['yr_renovated'].value_counts())\n",
    "print('column \"yr_renovated\" has', df['yr_renovated'].isna().sum(), 'NaN values')"
   ]
  },
  {
   "cell_type": "markdown",
   "metadata": {},
   "source": [
    "When it comes to 'waterfront' it looks like the values are 1 or 0 indicating a 'yes' or 'no' as to whether or not it has a waterfront view. Since there isn't much data here to begin with, and we want as many results as posible, we'll simply replace NaN values with a 0 to assume those homes don't have a waterfront view."
   ]
  },
  {
   "cell_type": "code",
   "execution_count": 150,
   "metadata": {},
   "outputs": [],
   "source": [
    "df['waterfront'] = df['waterfront'].fillna(0)"
   ]
  },
  {
   "cell_type": "code",
   "execution_count": 151,
   "metadata": {},
   "outputs": [
    {
     "name": "stdout",
     "output_type": "stream",
     "text": [
      "0.0    21451\n",
      "1.0      146\n",
      "Name: waterfront, dtype: int64\n",
      "column \"waterfront\" has 0 NaN values\n"
     ]
    }
   ],
   "source": [
    "print(df['waterfront'].value_counts())\n",
    "print('column \"waterfront\" has', df['waterfront'].isna().sum(), 'NaN values')"
   ]
  },
  {
   "cell_type": "markdown",
   "metadata": {},
   "source": [
    "-*CHANGE THIS. NO LONGER TRUE*-\n",
    "As far as 'yr_renovated' the values are either meant to have a year for when it was rennovated or a 0 for if it wasn't renovated. Like the with 'waterfront' we have to assume that NaN values in this case just haven't been renovated at all. However, we're going to tweek the data a bit here. It's not so much important *when* the house was renotvated but*if* it was renovated. So we'll change dates to a '1' to indicate a 'yes' or 'no', just like with 'waterfront'"
   ]
  },
  {
   "cell_type": "code",
   "execution_count": 152,
   "metadata": {},
   "outputs": [
    {
     "name": "stdout",
     "output_type": "stream",
     "text": [
      "Index(['price', 'bedrooms', 'bathrooms', 'sqft_living', 'sqft_lot', 'floors',\n",
      "       'waterfront', 'condition', 'grade', 'sqft_above', 'sqft_basement',\n",
      "       'yr_built', 'yr_renovated'],\n",
      "      dtype='object')\n"
     ]
    }
   ],
   "source": [
    "print(df.columns)"
   ]
  },
  {
   "cell_type": "code",
   "execution_count": 153,
   "metadata": {},
   "outputs": [
    {
     "name": "stdout",
     "output_type": "stream",
     "text": [
      "0.0       20853\n",
      "2014.0       73\n",
      "2003.0       31\n",
      "2013.0       31\n",
      "2007.0       30\n",
      "          ...  \n",
      "1946.0        1\n",
      "1959.0        1\n",
      "1971.0        1\n",
      "1951.0        1\n",
      "1954.0        1\n",
      "Name: yr_renovated, Length: 70, dtype: int64\n",
      "column \"yr_renovated\" has 0 NaN values\n"
     ]
    }
   ],
   "source": [
    "df['yr_renovated'] = df['yr_renovated'].fillna(0)\n",
    "# df.loc[df.yr_renovated != 0, 'yr_renovated'] = 1\n",
    "\n",
    "print(df['yr_renovated'].value_counts())\n",
    "print('column \"yr_renovated\" has', df['yr_renovated'].isna().sum(), 'NaN values')"
   ]
  },
  {
   "cell_type": "markdown",
   "metadata": {},
   "source": [
    "Success! Lastly, let's check to make sure all of our columns are either a float or int as our program wont know what to do with anything else"
   ]
  },
  {
   "cell_type": "code",
   "execution_count": 154,
   "metadata": {
    "scrolled": true
   },
   "outputs": [
    {
     "name": "stdout",
     "output_type": "stream",
     "text": [
      "<class 'pandas.core.frame.DataFrame'>\n",
      "RangeIndex: 21597 entries, 0 to 21596\n",
      "Data columns (total 13 columns):\n",
      "price            21597 non-null float64\n",
      "bedrooms         21597 non-null int64\n",
      "bathrooms        21597 non-null float64\n",
      "sqft_living      21597 non-null int64\n",
      "sqft_lot         21597 non-null int64\n",
      "floors           21597 non-null float64\n",
      "waterfront       21597 non-null float64\n",
      "condition        21597 non-null int64\n",
      "grade            21597 non-null int64\n",
      "sqft_above       21597 non-null int64\n",
      "sqft_basement    21597 non-null object\n",
      "yr_built         21597 non-null int64\n",
      "yr_renovated     21597 non-null float64\n",
      "dtypes: float64(5), int64(7), object(1)\n",
      "memory usage: 2.1+ MB\n"
     ]
    }
   ],
   "source": [
    "df.info()"
   ]
  },
  {
   "cell_type": "markdown",
   "metadata": {},
   "source": [
    "Column 'sqft_basement' is an object. Let's see why..."
   ]
  },
  {
   "cell_type": "code",
   "execution_count": 155,
   "metadata": {
    "scrolled": false
   },
   "outputs": [
    {
     "data": {
      "text/plain": [
       "0.0       12826\n",
       "?           454\n",
       "600.0       217\n",
       "500.0       209\n",
       "700.0       208\n",
       "          ...  \n",
       "1990.0        1\n",
       "1245.0        1\n",
       "2130.0        1\n",
       "4820.0        1\n",
       "1930.0        1\n",
       "Name: sqft_basement, Length: 304, dtype: int64"
      ]
     },
     "execution_count": 155,
     "metadata": {},
     "output_type": "execute_result"
    }
   ],
   "source": [
    "df.sqft_basement.value_counts()"
   ]
  },
  {
   "cell_type": "markdown",
   "metadata": {},
   "source": [
    "There is a '?' somewhere in our dataset. That's not a number so it wont convert away from a string to a float or int. And since we can't just *pReTEnD* that the house *dOEsN't* have a basement when it truely might, we can't just zero these values out an ignore it because it would skew our data too much. We're going to have to remove these rows entirely. This shouldn't hit the data too hard since there are plent more rows to spare."
   ]
  },
  {
   "cell_type": "code",
   "execution_count": 156,
   "metadata": {},
   "outputs": [
    {
     "name": "stdout",
     "output_type": "stream",
     "text": [
      "<class 'pandas.core.frame.DataFrame'>\n",
      "Int64Index: 21143 entries, 0 to 21596\n",
      "Data columns (total 13 columns):\n",
      "price            21143 non-null float64\n",
      "bedrooms         21143 non-null int64\n",
      "bathrooms        21143 non-null float64\n",
      "sqft_living      21143 non-null int64\n",
      "sqft_lot         21143 non-null int64\n",
      "floors           21143 non-null float64\n",
      "waterfront       21143 non-null float64\n",
      "condition        21143 non-null int64\n",
      "grade            21143 non-null int64\n",
      "sqft_above       21143 non-null int64\n",
      "sqft_basement    21143 non-null float64\n",
      "yr_built         21143 non-null int64\n",
      "yr_renovated     21143 non-null float64\n",
      "dtypes: float64(6), int64(7)\n",
      "memory usage: 2.3 MB\n"
     ]
    }
   ],
   "source": [
    "# This code removes all rows that have a '?' value in the basement column\n",
    "index_names = df[ df['sqft_basement'] == '?' ].index\n",
    "df.drop(index_names, inplace = True)\n",
    "\n",
    "\n",
    "# I've already explored this data a bit a know that the rest\n",
    "# of the data shows up as an object but converts to a float without any fuss\n",
    "df['sqft_basement'] = df['sqft_basement'].astype(float)\n",
    "df.info()"
   ]
  },
  {
   "cell_type": "code",
   "execution_count": 157,
   "metadata": {},
   "outputs": [
    {
     "data": {
      "text/plain": [
       "0.0       20420\n",
       "2014.0       69\n",
       "2003.0       31\n",
       "2013.0       31\n",
       "2007.0       30\n",
       "          ...  \n",
       "1953.0        1\n",
       "1944.0        1\n",
       "1934.0        1\n",
       "1971.0        1\n",
       "1959.0        1\n",
       "Name: yr_renovated, Length: 69, dtype: int64"
      ]
     },
     "execution_count": 157,
     "metadata": {},
     "output_type": "execute_result"
    }
   ],
   "source": [
    "df['yr_renovated'].value_counts()"
   ]
  },
  {
   "cell_type": "markdown",
   "metadata": {},
   "source": [
    "Finally, we can start taking a first look at our total dataset and modeling our first substandard model."
   ]
  },
  {
   "cell_type": "code",
   "execution_count": 158,
   "metadata": {
    "scrolled": false
   },
   "outputs": [],
   "source": [
    "# bigplot = sns.pairplot(df)\n",
    "# bigplot.fig.set_size_inches(10, 10)"
   ]
  },
  {
   "cell_type": "code",
   "execution_count": 159,
   "metadata": {},
   "outputs": [],
   "source": [
    "xCols = [c for c in df.columns.to_list() if c not in ['price']]\n",
    "\n",
    "x = df[xCols]\n",
    "y = df['price']"
   ]
  },
  {
   "cell_type": "code",
   "execution_count": 160,
   "metadata": {
    "scrolled": true
   },
   "outputs": [
    {
     "name": "stderr",
     "output_type": "stream",
     "text": [
      "C:\\Users\\Sweet Deals\\anaconda3\\envs\\learn-env\\lib\\site-packages\\numpy\\core\\fromnumeric.py:2580: FutureWarning: Method .ptp is deprecated and will be removed in a future version. Use numpy.ptp instead.\n",
      "  return ptp(axis=axis, out=out, **kwargs)\n"
     ]
    }
   ],
   "source": [
    "model = sm.OLS(y, sm.add_constant(x))"
   ]
  },
  {
   "cell_type": "code",
   "execution_count": 161,
   "metadata": {
    "scrolled": false
   },
   "outputs": [
    {
     "data": {
      "text/html": [
       "<table class=\"simpletable\">\n",
       "<caption>OLS Regression Results</caption>\n",
       "<tr>\n",
       "  <th>Dep. Variable:</th>          <td>price</td>      <th>  R-squared:         </th>  <td>   0.647</td>  \n",
       "</tr>\n",
       "<tr>\n",
       "  <th>Model:</th>                   <td>OLS</td>       <th>  Adj. R-squared:    </th>  <td>   0.646</td>  \n",
       "</tr>\n",
       "<tr>\n",
       "  <th>Method:</th>             <td>Least Squares</td>  <th>  F-statistic:       </th>  <td>   3514.</td>  \n",
       "</tr>\n",
       "<tr>\n",
       "  <th>Date:</th>             <td>Tue, 26 Jan 2021</td> <th>  Prob (F-statistic):</th>   <td>  0.00</td>   \n",
       "</tr>\n",
       "<tr>\n",
       "  <th>Time:</th>                 <td>13:44:38</td>     <th>  Log-Likelihood:    </th> <td>-2.8998e+05</td>\n",
       "</tr>\n",
       "<tr>\n",
       "  <th>No. Observations:</th>      <td> 21143</td>      <th>  AIC:               </th>  <td>5.800e+05</td> \n",
       "</tr>\n",
       "<tr>\n",
       "  <th>Df Residuals:</th>          <td> 21131</td>      <th>  BIC:               </th>  <td>5.801e+05</td> \n",
       "</tr>\n",
       "<tr>\n",
       "  <th>Df Model:</th>              <td>    11</td>      <th>                     </th>      <td> </td>     \n",
       "</tr>\n",
       "<tr>\n",
       "  <th>Covariance Type:</th>      <td>nonrobust</td>    <th>                     </th>      <td> </td>     \n",
       "</tr>\n",
       "</table>\n",
       "<table class=\"simpletable\">\n",
       "<tr>\n",
       "        <td></td>           <th>coef</th>     <th>std err</th>      <th>t</th>      <th>P>|t|</th>  <th>[0.025</th>    <th>0.975]</th>  \n",
       "</tr>\n",
       "<tr>\n",
       "  <th>const</th>         <td> 6.494e+06</td> <td> 1.39e+05</td> <td>   46.595</td> <td> 0.000</td> <td> 6.22e+06</td> <td> 6.77e+06</td>\n",
       "</tr>\n",
       "<tr>\n",
       "  <th>bedrooms</th>      <td>-4.246e+04</td> <td> 2077.078</td> <td>  -20.440</td> <td> 0.000</td> <td>-4.65e+04</td> <td>-3.84e+04</td>\n",
       "</tr>\n",
       "<tr>\n",
       "  <th>bathrooms</th>     <td> 4.689e+04</td> <td> 3583.353</td> <td>   13.087</td> <td> 0.000</td> <td> 3.99e+04</td> <td> 5.39e+04</td>\n",
       "</tr>\n",
       "<tr>\n",
       "  <th>sqft_living</th>   <td>  121.3387</td> <td>    2.315</td> <td>   52.416</td> <td> 0.000</td> <td>  116.801</td> <td>  125.876</td>\n",
       "</tr>\n",
       "<tr>\n",
       "  <th>sqft_lot</th>      <td>   -0.2417</td> <td>    0.038</td> <td>   -6.425</td> <td> 0.000</td> <td>   -0.315</td> <td>   -0.168</td>\n",
       "</tr>\n",
       "<tr>\n",
       "  <th>floors</th>        <td> 2.561e+04</td> <td> 3831.213</td> <td>    6.685</td> <td> 0.000</td> <td> 1.81e+04</td> <td> 3.31e+04</td>\n",
       "</tr>\n",
       "<tr>\n",
       "  <th>waterfront</th>    <td>  7.58e+05</td> <td> 1.87e+04</td> <td>   40.607</td> <td> 0.000</td> <td> 7.21e+05</td> <td> 7.95e+05</td>\n",
       "</tr>\n",
       "<tr>\n",
       "  <th>condition</th>     <td> 1.995e+04</td> <td> 2549.872</td> <td>    7.822</td> <td> 0.000</td> <td> 1.49e+04</td> <td> 2.49e+04</td>\n",
       "</tr>\n",
       "<tr>\n",
       "  <th>grade</th>         <td> 1.307e+05</td> <td> 2201.638</td> <td>   59.345</td> <td> 0.000</td> <td> 1.26e+05</td> <td> 1.35e+05</td>\n",
       "</tr>\n",
       "<tr>\n",
       "  <th>sqft_above</th>    <td>   52.4440</td> <td>    2.227</td> <td>   23.553</td> <td> 0.000</td> <td>   48.080</td> <td>   56.808</td>\n",
       "</tr>\n",
       "<tr>\n",
       "  <th>sqft_basement</th> <td>   68.8947</td> <td>    2.799</td> <td>   24.614</td> <td> 0.000</td> <td>   63.408</td> <td>   74.381</td>\n",
       "</tr>\n",
       "<tr>\n",
       "  <th>yr_built</th>      <td>-3747.0038</td> <td>   71.389</td> <td>  -52.487</td> <td> 0.000</td> <td>-3886.931</td> <td>-3607.076</td>\n",
       "</tr>\n",
       "<tr>\n",
       "  <th>yr_renovated</th>  <td>   14.9275</td> <td>    4.371</td> <td>    3.416</td> <td> 0.001</td> <td>    6.361</td> <td>   23.494</td>\n",
       "</tr>\n",
       "</table>\n",
       "<table class=\"simpletable\">\n",
       "<tr>\n",
       "  <th>Omnibus:</th>       <td>15541.636</td> <th>  Durbin-Watson:     </th>  <td>   1.982</td> \n",
       "</tr>\n",
       "<tr>\n",
       "  <th>Prob(Omnibus):</th>  <td> 0.000</td>   <th>  Jarque-Bera (JB):  </th> <td>999812.079</td>\n",
       "</tr>\n",
       "<tr>\n",
       "  <th>Skew:</th>           <td> 2.940</td>   <th>  Prob(JB):          </th>  <td>    0.00</td> \n",
       "</tr>\n",
       "<tr>\n",
       "  <th>Kurtosis:</th>       <td>36.171</td>   <th>  Cond. No.          </th>  <td>1.53e+17</td> \n",
       "</tr>\n",
       "</table><br/><br/>Warnings:<br/>[1] Standard Errors assume that the covariance matrix of the errors is correctly specified.<br/>[2] The smallest eigenvalue is 1.74e-21. This might indicate that there are<br/>strong multicollinearity problems or that the design matrix is singular."
      ],
      "text/plain": [
       "<class 'statsmodels.iolib.summary.Summary'>\n",
       "\"\"\"\n",
       "                            OLS Regression Results                            \n",
       "==============================================================================\n",
       "Dep. Variable:                  price   R-squared:                       0.647\n",
       "Model:                            OLS   Adj. R-squared:                  0.646\n",
       "Method:                 Least Squares   F-statistic:                     3514.\n",
       "Date:                Tue, 26 Jan 2021   Prob (F-statistic):               0.00\n",
       "Time:                        13:44:38   Log-Likelihood:            -2.8998e+05\n",
       "No. Observations:               21143   AIC:                         5.800e+05\n",
       "Df Residuals:                   21131   BIC:                         5.801e+05\n",
       "Df Model:                          11                                         \n",
       "Covariance Type:            nonrobust                                         \n",
       "=================================================================================\n",
       "                    coef    std err          t      P>|t|      [0.025      0.975]\n",
       "---------------------------------------------------------------------------------\n",
       "const          6.494e+06   1.39e+05     46.595      0.000    6.22e+06    6.77e+06\n",
       "bedrooms      -4.246e+04   2077.078    -20.440      0.000   -4.65e+04   -3.84e+04\n",
       "bathrooms      4.689e+04   3583.353     13.087      0.000    3.99e+04    5.39e+04\n",
       "sqft_living     121.3387      2.315     52.416      0.000     116.801     125.876\n",
       "sqft_lot         -0.2417      0.038     -6.425      0.000      -0.315      -0.168\n",
       "floors         2.561e+04   3831.213      6.685      0.000    1.81e+04    3.31e+04\n",
       "waterfront      7.58e+05   1.87e+04     40.607      0.000    7.21e+05    7.95e+05\n",
       "condition      1.995e+04   2549.872      7.822      0.000    1.49e+04    2.49e+04\n",
       "grade          1.307e+05   2201.638     59.345      0.000    1.26e+05    1.35e+05\n",
       "sqft_above       52.4440      2.227     23.553      0.000      48.080      56.808\n",
       "sqft_basement    68.8947      2.799     24.614      0.000      63.408      74.381\n",
       "yr_built      -3747.0038     71.389    -52.487      0.000   -3886.931   -3607.076\n",
       "yr_renovated     14.9275      4.371      3.416      0.001       6.361      23.494\n",
       "==============================================================================\n",
       "Omnibus:                    15541.636   Durbin-Watson:                   1.982\n",
       "Prob(Omnibus):                  0.000   Jarque-Bera (JB):           999812.079\n",
       "Skew:                           2.940   Prob(JB):                         0.00\n",
       "Kurtosis:                      36.171   Cond. No.                     1.53e+17\n",
       "==============================================================================\n",
       "\n",
       "Warnings:\n",
       "[1] Standard Errors assume that the covariance matrix of the errors is correctly specified.\n",
       "[2] The smallest eigenvalue is 1.74e-21. This might indicate that there are\n",
       "strong multicollinearity problems or that the design matrix is singular.\n",
       "\"\"\""
      ]
     },
     "execution_count": 161,
     "metadata": {},
     "output_type": "execute_result"
    }
   ],
   "source": [
    "results = model.fit()\n",
    "results.summary()"
   ]
  },
  {
   "cell_type": "code",
   "execution_count": 162,
   "metadata": {},
   "outputs": [
    {
     "data": {
      "image/png": "[encoded data removed]",
      "text/plain": [
       "<Figure size 432x288 with 1 Axes>"
      ]
     },
     "metadata": {
      "needs_background": "light"
     },
     "output_type": "display_data"
    },
    {
     "data": {
      "image/png": "[encoded data removed]",
      "text/plain": [
       "<Figure size 432x288 with 1 Axes>"
      ]
     },
     "metadata": {
      "needs_background": "light"
     },
     "output_type": "display_data"
    }
   ],
   "source": [
    "stdScale = StandardScaler()\n",
    "minMaxScale = MinMaxScaler()\n",
    "robScale = RobustScaler()\n",
    "\n",
    "bedroomsScaled = robScale.fit_transform(x['bedrooms'].values.reshape(-1, 1))\n",
    "bathroomsScaled = robScale.fit_transform(x['bathrooms'].values.reshape(-1, 1))\n",
    "\n",
    "\n",
    "mmscaled = {'Bedrooms': bedroomsScaled,\n",
    "           'Bathrooms': bathroomsScaled,\n",
    "           }\n",
    "\n",
    "for title, data in mmscaled.items():\n",
    "    plt.hist(data, bins='auto')\n",
    "    plt.title(f\"{title}\")\n",
    "    plt.show()"
   ]
  },
  {
   "cell_type": "code",
   "execution_count": 163,
   "metadata": {},
   "outputs": [
    {
     "name": "stdout",
     "output_type": "stream",
     "text": [
      "(21143, 12)\n"
     ]
    },
    {
     "data": {
      "text/html": [
       "<div>\n",
       "<style scoped>\n",
       "    .dataframe tbody tr th:only-of-type {\n",
       "        vertical-align: middle;\n",
       "    }\n",
       "\n",
       "    .dataframe tbody tr th {\n",
       "        vertical-align: top;\n",
       "    }\n",
       "\n",
       "    .dataframe thead th {\n",
       "        text-align: right;\n",
       "    }\n",
       "</style>\n",
       "<table border=\"1\" class=\"dataframe\">\n",
       "  <thead>\n",
       "    <tr style=\"text-align: right;\">\n",
       "      <th></th>\n",
       "      <th>bedrooms</th>\n",
       "      <th>bathrooms</th>\n",
       "      <th>sqft_living</th>\n",
       "      <th>sqft_lot</th>\n",
       "      <th>floors</th>\n",
       "      <th>waterfront</th>\n",
       "      <th>condition</th>\n",
       "      <th>grade</th>\n",
       "      <th>sqft_above</th>\n",
       "      <th>sqft_basement</th>\n",
       "      <th>yr_built</th>\n",
       "      <th>yr_renovated</th>\n",
       "    </tr>\n",
       "  </thead>\n",
       "  <tbody>\n",
       "    <tr>\n",
       "      <th>0</th>\n",
       "      <td>3</td>\n",
       "      <td>1.00</td>\n",
       "      <td>1180</td>\n",
       "      <td>5650</td>\n",
       "      <td>1.0</td>\n",
       "      <td>0.0</td>\n",
       "      <td>3</td>\n",
       "      <td>7</td>\n",
       "      <td>1180</td>\n",
       "      <td>0.0</td>\n",
       "      <td>1955</td>\n",
       "      <td>0.0</td>\n",
       "    </tr>\n",
       "    <tr>\n",
       "      <th>1</th>\n",
       "      <td>3</td>\n",
       "      <td>2.25</td>\n",
       "      <td>2570</td>\n",
       "      <td>7242</td>\n",
       "      <td>2.0</td>\n",
       "      <td>0.0</td>\n",
       "      <td>3</td>\n",
       "      <td>7</td>\n",
       "      <td>2170</td>\n",
       "      <td>400.0</td>\n",
       "      <td>1951</td>\n",
       "      <td>1991.0</td>\n",
       "    </tr>\n",
       "    <tr>\n",
       "      <th>2</th>\n",
       "      <td>2</td>\n",
       "      <td>1.00</td>\n",
       "      <td>770</td>\n",
       "      <td>10000</td>\n",
       "      <td>1.0</td>\n",
       "      <td>0.0</td>\n",
       "      <td>3</td>\n",
       "      <td>6</td>\n",
       "      <td>770</td>\n",
       "      <td>0.0</td>\n",
       "      <td>1933</td>\n",
       "      <td>0.0</td>\n",
       "    </tr>\n",
       "    <tr>\n",
       "      <th>3</th>\n",
       "      <td>4</td>\n",
       "      <td>3.00</td>\n",
       "      <td>1960</td>\n",
       "      <td>5000</td>\n",
       "      <td>1.0</td>\n",
       "      <td>0.0</td>\n",
       "      <td>5</td>\n",
       "      <td>7</td>\n",
       "      <td>1050</td>\n",
       "      <td>910.0</td>\n",
       "      <td>1965</td>\n",
       "      <td>0.0</td>\n",
       "    </tr>\n",
       "    <tr>\n",
       "      <th>4</th>\n",
       "      <td>3</td>\n",
       "      <td>2.00</td>\n",
       "      <td>1680</td>\n",
       "      <td>8080</td>\n",
       "      <td>1.0</td>\n",
       "      <td>0.0</td>\n",
       "      <td>3</td>\n",
       "      <td>8</td>\n",
       "      <td>1680</td>\n",
       "      <td>0.0</td>\n",
       "      <td>1987</td>\n",
       "      <td>0.0</td>\n",
       "    </tr>\n",
       "  </tbody>\n",
       "</table>\n",
       "</div>"
      ],
      "text/plain": [
       "   bedrooms  bathrooms  sqft_living  sqft_lot  floors  waterfront  condition  \\\n",
       "0         3       1.00         1180      5650     1.0         0.0          3   \n",
       "1         3       2.25         2570      7242     2.0         0.0          3   \n",
       "2         2       1.00          770     10000     1.0         0.0          3   \n",
       "3         4       3.00         1960      5000     1.0         0.0          5   \n",
       "4         3       2.00         1680      8080     1.0         0.0          3   \n",
       "\n",
       "   grade  sqft_above  sqft_basement  yr_built  yr_renovated  \n",
       "0      7        1180            0.0      1955           0.0  \n",
       "1      7        2170          400.0      1951        1991.0  \n",
       "2      6         770            0.0      1933           0.0  \n",
       "3      7        1050          910.0      1965           0.0  \n",
       "4      8        1680            0.0      1987           0.0  "
      ]
     },
     "execution_count": 163,
     "metadata": {},
     "output_type": "execute_result"
    }
   ],
   "source": [
    "print(x.shape)\n",
    "x.head()"
   ]
  },
  {
   "cell_type": "code",
   "execution_count": 164,
   "metadata": {},
   "outputs": [
    {
     "name": "stdout",
     "output_type": "stream",
     "text": [
      "(21143,)\n"
     ]
    },
    {
     "data": {
      "text/plain": [
       "0    221900.0\n",
       "1    538000.0\n",
       "2    180000.0\n",
       "3    604000.0\n",
       "4    510000.0\n",
       "Name: price, dtype: float64"
      ]
     },
     "execution_count": 164,
     "metadata": {},
     "output_type": "execute_result"
    }
   ],
   "source": [
    "print(y.shape)\n",
    "y.head()"
   ]
  },
  {
   "cell_type": "code",
   "execution_count": 165,
   "metadata": {},
   "outputs": [],
   "source": [
    "xTrain, xTest, yTrain, yTest = train_test_split(\n",
    "    x, y, test_size=0.33, random_state=42)"
   ]
  },
  {
   "cell_type": "code",
   "execution_count": 166,
   "metadata": {},
   "outputs": [
    {
     "data": {
      "text/plain": [
       "(14165, 12)"
      ]
     },
     "execution_count": 166,
     "metadata": {},
     "output_type": "execute_result"
    }
   ],
   "source": [
    "xTrain.shape"
   ]
  },
  {
   "cell_type": "code",
   "execution_count": 167,
   "metadata": {},
   "outputs": [
    {
     "data": {
      "text/plain": [
       "(14165, 12)"
      ]
     },
     "execution_count": 167,
     "metadata": {},
     "output_type": "execute_result"
    }
   ],
   "source": [
    "xTrain.shape"
   ]
  },
  {
   "cell_type": "code",
   "execution_count": 168,
   "metadata": {},
   "outputs": [
    {
     "data": {
      "text/plain": [
       "True"
      ]
     },
     "execution_count": 168,
     "metadata": {},
     "output_type": "execute_result"
    }
   ],
   "source": [
    "len(xTrain + xTest) == len(x)"
   ]
  },
  {
   "cell_type": "code",
   "execution_count": 169,
   "metadata": {},
   "outputs": [
    {
     "data": {
      "text/html": [
       "<div>\n",
       "<style scoped>\n",
       "    .dataframe tbody tr th:only-of-type {\n",
       "        vertical-align: middle;\n",
       "    }\n",
       "\n",
       "    .dataframe tbody tr th {\n",
       "        vertical-align: top;\n",
       "    }\n",
       "\n",
       "    .dataframe thead th {\n",
       "        text-align: right;\n",
       "    }\n",
       "</style>\n",
       "<table border=\"1\" class=\"dataframe\">\n",
       "  <thead>\n",
       "    <tr style=\"text-align: right;\">\n",
       "      <th></th>\n",
       "      <th>bedrooms</th>\n",
       "      <th>bathrooms</th>\n",
       "      <th>sqft_living</th>\n",
       "      <th>sqft_lot</th>\n",
       "      <th>floors</th>\n",
       "      <th>waterfront</th>\n",
       "      <th>condition</th>\n",
       "      <th>grade</th>\n",
       "      <th>sqft_above</th>\n",
       "      <th>sqft_basement</th>\n",
       "      <th>yr_built</th>\n",
       "      <th>yr_renovated</th>\n",
       "    </tr>\n",
       "  </thead>\n",
       "  <tbody>\n",
       "    <tr>\n",
       "      <th>20657</th>\n",
       "      <td>2</td>\n",
       "      <td>1.75</td>\n",
       "      <td>1460</td>\n",
       "      <td>1500</td>\n",
       "      <td>2.0</td>\n",
       "      <td>0.0</td>\n",
       "      <td>3</td>\n",
       "      <td>8</td>\n",
       "      <td>1000</td>\n",
       "      <td>460.0</td>\n",
       "      <td>2008</td>\n",
       "      <td>0.0</td>\n",
       "    </tr>\n",
       "    <tr>\n",
       "      <th>88</th>\n",
       "      <td>2</td>\n",
       "      <td>2.25</td>\n",
       "      <td>1610</td>\n",
       "      <td>2040</td>\n",
       "      <td>2.0</td>\n",
       "      <td>0.0</td>\n",
       "      <td>4</td>\n",
       "      <td>7</td>\n",
       "      <td>1610</td>\n",
       "      <td>0.0</td>\n",
       "      <td>1979</td>\n",
       "      <td>0.0</td>\n",
       "    </tr>\n",
       "    <tr>\n",
       "      <th>15566</th>\n",
       "      <td>4</td>\n",
       "      <td>1.50</td>\n",
       "      <td>3520</td>\n",
       "      <td>4933</td>\n",
       "      <td>1.5</td>\n",
       "      <td>0.0</td>\n",
       "      <td>4</td>\n",
       "      <td>8</td>\n",
       "      <td>2270</td>\n",
       "      <td>1250.0</td>\n",
       "      <td>1929</td>\n",
       "      <td>0.0</td>\n",
       "    </tr>\n",
       "    <tr>\n",
       "      <th>20848</th>\n",
       "      <td>4</td>\n",
       "      <td>3.50</td>\n",
       "      <td>3530</td>\n",
       "      <td>8126</td>\n",
       "      <td>2.0</td>\n",
       "      <td>0.0</td>\n",
       "      <td>3</td>\n",
       "      <td>10</td>\n",
       "      <td>3530</td>\n",
       "      <td>0.0</td>\n",
       "      <td>2007</td>\n",
       "      <td>0.0</td>\n",
       "    </tr>\n",
       "    <tr>\n",
       "      <th>7299</th>\n",
       "      <td>3</td>\n",
       "      <td>1.75</td>\n",
       "      <td>1390</td>\n",
       "      <td>4602</td>\n",
       "      <td>1.0</td>\n",
       "      <td>0.0</td>\n",
       "      <td>3</td>\n",
       "      <td>7</td>\n",
       "      <td>930</td>\n",
       "      <td>460.0</td>\n",
       "      <td>1981</td>\n",
       "      <td>0.0</td>\n",
       "    </tr>\n",
       "  </tbody>\n",
       "</table>\n",
       "</div>"
      ],
      "text/plain": [
       "       bedrooms  bathrooms  sqft_living  sqft_lot  floors  waterfront  \\\n",
       "20657         2       1.75         1460      1500     2.0         0.0   \n",
       "88            2       2.25         1610      2040     2.0         0.0   \n",
       "15566         4       1.50         3520      4933     1.5         0.0   \n",
       "20848         4       3.50         3530      8126     2.0         0.0   \n",
       "7299          3       1.75         1390      4602     1.0         0.0   \n",
       "\n",
       "       condition  grade  sqft_above  sqft_basement  yr_built  yr_renovated  \n",
       "20657          3      8        1000          460.0      2008           0.0  \n",
       "88             4      7        1610            0.0      1979           0.0  \n",
       "15566          4      8        2270         1250.0      1929           0.0  \n",
       "20848          3     10        3530            0.0      2007           0.0  \n",
       "7299           3      7         930          460.0      1981           0.0  "
      ]
     },
     "execution_count": 169,
     "metadata": {},
     "output_type": "execute_result"
    }
   ],
   "source": [
    "xTrain.head()"
   ]
  },
  {
   "cell_type": "code",
   "execution_count": 170,
   "metadata": {},
   "outputs": [],
   "source": [
    "XTrainScale = stdScale.fit_transform(xTrain)\n",
    "XTestScale = stdScale.transform(xTest)"
   ]
  },
  {
   "cell_type": "code",
   "execution_count": 171,
   "metadata": {},
   "outputs": [
    {
     "data": {
      "text/plain": [
       "array([[2.000e+00, 1.750e+00, 1.460e+03, ..., 4.600e+02, 2.008e+03,\n",
       "        0.000e+00],\n",
       "       [2.000e+00, 2.250e+00, 1.610e+03, ..., 0.000e+00, 1.979e+03,\n",
       "        0.000e+00],\n",
       "       [4.000e+00, 1.500e+00, 3.520e+03, ..., 1.250e+03, 1.929e+03,\n",
       "        0.000e+00],\n",
       "       ...,\n",
       "       [2.000e+00, 1.750e+00, 1.760e+03, ..., 8.800e+02, 1.930e+03,\n",
       "        0.000e+00],\n",
       "       [3.000e+00, 2.000e+00, 1.910e+03, ..., 5.000e+02, 1.978e+03,\n",
       "        0.000e+00],\n",
       "       [2.000e+00, 1.000e+00, 1.200e+03, ..., 2.200e+02, 1.943e+03,\n",
       "        0.000e+00]])"
      ]
     },
     "execution_count": 171,
     "metadata": {},
     "output_type": "execute_result"
    }
   ],
   "source": [
    "xTrain.values"
   ]
  },
  {
   "cell_type": "code",
   "execution_count": 172,
   "metadata": {},
   "outputs": [
    {
     "data": {
      "text/plain": [
       "array([[3.000e+00, 3.500e+00, 3.070e+03, ..., 1.500e+03, 1.928e+03,\n",
       "        1.996e+03],\n",
       "       [3.000e+00, 1.500e+00, 1.430e+03, ..., 4.000e+02, 1.977e+03,\n",
       "        0.000e+00],\n",
       "       [4.000e+00, 2.500e+00, 2.980e+03, ..., 0.000e+00, 2.003e+03,\n",
       "        0.000e+00],\n",
       "       ...,\n",
       "       [4.000e+00, 2.000e+00, 1.440e+03, ..., 0.000e+00, 1.962e+03,\n",
       "        0.000e+00],\n",
       "       [3.000e+00, 1.750e+00, 1.240e+03, ..., 0.000e+00, 1.957e+03,\n",
       "        0.000e+00],\n",
       "       [3.000e+00, 1.500e+00, 1.620e+03, ..., 0.000e+00, 1.949e+03,\n",
       "        0.000e+00]])"
      ]
     },
     "execution_count": 172,
     "metadata": {},
     "output_type": "execute_result"
    }
   ],
   "source": [
    "xTest.values"
   ]
  },
  {
   "cell_type": "code",
   "execution_count": 173,
   "metadata": {},
   "outputs": [
    {
     "data": {
      "text/plain": [
       "LinearRegression(copy_X=True, fit_intercept=True, n_jobs=None, normalize=False)"
      ]
     },
     "execution_count": 173,
     "metadata": {},
     "output_type": "execute_result"
    }
   ],
   "source": [
    "lr = LinearRegression()\n",
    "lr.fit(XTrainScale, yTrain)"
   ]
  },
  {
   "cell_type": "code",
   "execution_count": 174,
   "metadata": {},
   "outputs": [],
   "source": [
    "yPredTrain = lr.predict(XTrainScale)\n",
    "yPredTest = lr.predict(XTestScale)"
   ]
  },
  {
   "cell_type": "code",
   "execution_count": 175,
   "metadata": {},
   "outputs": [
    {
     "name": "stdout",
     "output_type": "stream",
     "text": [
      "Train Score: 0.6471207231814522\n",
      "Test Score: 0.644487940550903\n",
      "-----\n",
      "Train Score: 47557278960.706276\n",
      "Test Score: 48668703149.764565\n"
     ]
    }
   ],
   "source": [
    "print(f\"Train Score: {r2_score(yTrain, yPredTrain)}\")\n",
    "print(f\"Test Score: {r2_score(yTest, yPredTest)}\")\n",
    "print('-----')\n",
    "print(f\"Train Score: {mean_squared_error(yTrain, yPredTrain)}\")\n",
    "print(f\"Test Score: {mean_squared_error(yTest, yPredTest)}\")"
   ]
  },
  {
   "cell_type": "code",
   "execution_count": 176,
   "metadata": {},
   "outputs": [
    {
     "name": "stdout",
     "output_type": "stream",
     "text": [
      "Random Seed: 1\n",
      "Train R2 Score: 0.6449701232206821\n",
      "Test R2 Score: 0.6495438697737443\n",
      "-----\n",
      "Random Seed: 2\n",
      "Train R2 Score: 0.6428759534955564\n",
      "Test R2 Score: 0.6458293840581051\n",
      "-----\n",
      "Random Seed: 3\n",
      "Train R2 Score: 0.6390507565076755\n",
      "Test R2 Score: 0.6627382050695121\n",
      "-----\n",
      "Random Seed: 4\n",
      "Train R2 Score: 0.6415716984382642\n",
      "Test R2 Score: 0.656669570971129\n",
      "-----\n",
      "Random Seed: 5\n",
      "Train R2 Score: 0.6483640936095958\n",
      "Test R2 Score: 0.6406461526481162\n",
      "-----\n",
      "Random Seed: 6\n",
      "Train R2 Score: 0.6497302241719463\n",
      "Test R2 Score: 0.6400793490550474\n",
      "-----\n",
      "Random Seed: 7\n",
      "Train R2 Score: 0.6388542550305305\n",
      "Test R2 Score: 0.661667850580039\n",
      "-----\n",
      "Random Seed: 8\n",
      "Train R2 Score: 0.6452425799441732\n",
      "Test R2 Score: 0.6455933286254876\n",
      "-----\n",
      "Random Seed: 9\n",
      "Train R2 Score: 0.6565835693673021\n",
      "Test R2 Score: 0.6212786125401142\n",
      "-----\n",
      "Random Seed: 10\n",
      "Train R2 Score: 0.6525971191015725\n",
      "Test R2 Score: 0.6302921252912838\n",
      "-----\n"
     ]
    }
   ],
   "source": [
    "for n in range(10):\n",
    "    xTrain, xTest, yTrain, yTest = train_test_split(x, y,\n",
    "                                                    test_size=.33,\n",
    "                                                    random_state=n)\n",
    "    stdScale = StandardScaler()\n",
    "    xTrainScaled = stdScale.fit_transform(xTrain)\n",
    "    xTestScaled = stdScale.fit_transform(xTest)\n",
    "    \n",
    "    lr = LinearRegression()\n",
    "    lr.fit(xTrainScaled, yTrain)\n",
    "    \n",
    "    yPredTrain = lr.predict(xTrainScaled)\n",
    "    yPredTest = lr.predict(xTestScaled)\n",
    "    \n",
    "    print(f\"Random Seed: {n+1}\")\n",
    "    print(f\"Train R2 Score: {r2_score(yTrain, yPredTrain)}\")\n",
    "    print(f\"Test R2 Score: {r2_score(yTest, yPredTest)}\")\n",
    "    print(\"-----\")"
   ]
  },
  {
   "cell_type": "code",
   "execution_count": 177,
   "metadata": {},
   "outputs": [],
   "source": [
    "lrFresh = LinearRegression()\n",
    "xScaled = stdScale.fit_transform(x)"
   ]
  },
  {
   "cell_type": "code",
   "execution_count": 178,
   "metadata": {},
   "outputs": [],
   "source": [
    "from sklearn.model_selection import cross_val_score"
   ]
  },
  {
   "cell_type": "code",
   "execution_count": 179,
   "metadata": {},
   "outputs": [
    {
     "name": "stderr",
     "output_type": "stream",
     "text": [
      "C:\\Users\\Sweet Deals\\anaconda3\\envs\\learn-env\\lib\\site-packages\\sklearn\\model_selection\\_split.py:1978: FutureWarning: The default value of cv will change from 3 to 5 in version 0.22. Specify it explicitly to silence this warning.\n",
      "  warnings.warn(CV_WARNING, FutureWarning)\n"
     ]
    }
   ],
   "source": [
    "scores = cross_val_score(lrFresh, xScaled, y)"
   ]
  },
  {
   "cell_type": "code",
   "execution_count": 180,
   "metadata": {},
   "outputs": [
    {
     "name": "stdout",
     "output_type": "stream",
     "text": [
      "Scores:  0.641 +/-  0.006\n"
     ]
    }
   ],
   "source": [
    "print(f\"Scores: {scores.mean(): .3f} +/- {scores.std(): .3f}\")"
   ]
  },
  {
   "cell_type": "code",
   "execution_count": 181,
   "metadata": {},
   "outputs": [
    {
     "data": {
      "text/plain": [
       "price            1.000000\n",
       "sqft_living      0.702328\n",
       "grade            0.667738\n",
       "sqft_above       0.605143\n",
       "bathrooms        0.525889\n",
       "sqft_basement    0.325008\n",
       "bedrooms         0.309204\n",
       "waterfront       0.265969\n",
       "floors           0.256355\n",
       "yr_renovated     0.116719\n",
       "sqft_lot         0.087937\n",
       "yr_built         0.054459\n",
       "condition        0.035290\n",
       "Name: price, dtype: float64"
      ]
     },
     "execution_count": 181,
     "metadata": {},
     "output_type": "execute_result"
    }
   ],
   "source": [
    "df.corr().price.sort_values(ascending=False)"
   ]
  },
  {
   "cell_type": "code",
   "execution_count": 182,
   "metadata": {},
   "outputs": [
    {
     "data": {
      "text/html": [
       "<div>\n",
       "<style scoped>\n",
       "    .dataframe tbody tr th:only-of-type {\n",
       "        vertical-align: middle;\n",
       "    }\n",
       "\n",
       "    .dataframe tbody tr th {\n",
       "        vertical-align: top;\n",
       "    }\n",
       "\n",
       "    .dataframe thead th {\n",
       "        text-align: right;\n",
       "    }\n",
       "</style>\n",
       "<table border=\"1\" class=\"dataframe\">\n",
       "  <thead>\n",
       "    <tr style=\"text-align: right;\">\n",
       "      <th></th>\n",
       "      <th>price</th>\n",
       "      <th>bedrooms</th>\n",
       "      <th>bathrooms</th>\n",
       "      <th>sqft_living</th>\n",
       "      <th>sqft_lot</th>\n",
       "      <th>floors</th>\n",
       "      <th>waterfront</th>\n",
       "      <th>condition</th>\n",
       "      <th>grade</th>\n",
       "      <th>sqft_above</th>\n",
       "      <th>sqft_basement</th>\n",
       "      <th>yr_built</th>\n",
       "      <th>yr_renovated</th>\n",
       "    </tr>\n",
       "  </thead>\n",
       "  <tbody>\n",
       "    <tr>\n",
       "      <th>price</th>\n",
       "      <td>1.000000</td>\n",
       "      <td>0.309204</td>\n",
       "      <td>0.525889</td>\n",
       "      <td>0.702328</td>\n",
       "      <td>0.087937</td>\n",
       "      <td>0.256355</td>\n",
       "      <td>0.265969</td>\n",
       "      <td>0.035290</td>\n",
       "      <td>0.667738</td>\n",
       "      <td>0.605143</td>\n",
       "      <td>0.325008</td>\n",
       "      <td>0.054459</td>\n",
       "      <td>0.116719</td>\n",
       "    </tr>\n",
       "    <tr>\n",
       "      <th>bedrooms</th>\n",
       "      <td>0.309204</td>\n",
       "      <td>1.000000</td>\n",
       "      <td>0.513840</td>\n",
       "      <td>0.577998</td>\n",
       "      <td>0.032262</td>\n",
       "      <td>0.179044</td>\n",
       "      <td>0.000061</td>\n",
       "      <td>0.025710</td>\n",
       "      <td>0.356882</td>\n",
       "      <td>0.479210</td>\n",
       "      <td>0.302683</td>\n",
       "      <td>0.157017</td>\n",
       "      <td>0.018452</td>\n",
       "    </tr>\n",
       "    <tr>\n",
       "      <th>bathrooms</th>\n",
       "      <td>0.525889</td>\n",
       "      <td>0.513840</td>\n",
       "      <td>1.000000</td>\n",
       "      <td>0.755278</td>\n",
       "      <td>0.087884</td>\n",
       "      <td>0.504071</td>\n",
       "      <td>0.064626</td>\n",
       "      <td>-0.128015</td>\n",
       "      <td>0.666493</td>\n",
       "      <td>0.686456</td>\n",
       "      <td>0.282693</td>\n",
       "      <td>0.508408</td>\n",
       "      <td>0.047955</td>\n",
       "    </tr>\n",
       "    <tr>\n",
       "      <th>sqft_living</th>\n",
       "      <td>0.702328</td>\n",
       "      <td>0.577998</td>\n",
       "      <td>0.755278</td>\n",
       "      <td>1.000000</td>\n",
       "      <td>0.172941</td>\n",
       "      <td>0.354688</td>\n",
       "      <td>0.106039</td>\n",
       "      <td>-0.061294</td>\n",
       "      <td>0.763101</td>\n",
       "      <td>0.876678</td>\n",
       "      <td>0.434576</td>\n",
       "      <td>0.319461</td>\n",
       "      <td>0.049964</td>\n",
       "    </tr>\n",
       "    <tr>\n",
       "      <th>sqft_lot</th>\n",
       "      <td>0.087937</td>\n",
       "      <td>0.032262</td>\n",
       "      <td>0.087884</td>\n",
       "      <td>0.172941</td>\n",
       "      <td>1.000000</td>\n",
       "      <td>-0.007522</td>\n",
       "      <td>0.021211</td>\n",
       "      <td>-0.009671</td>\n",
       "      <td>0.113402</td>\n",
       "      <td>0.183461</td>\n",
       "      <td>0.015533</td>\n",
       "      <td>0.052768</td>\n",
       "      <td>0.004182</td>\n",
       "    </tr>\n",
       "    <tr>\n",
       "      <th>floors</th>\n",
       "      <td>0.256355</td>\n",
       "      <td>0.179044</td>\n",
       "      <td>0.504071</td>\n",
       "      <td>0.354688</td>\n",
       "      <td>-0.007522</td>\n",
       "      <td>1.000000</td>\n",
       "      <td>0.020307</td>\n",
       "      <td>-0.264280</td>\n",
       "      <td>0.459214</td>\n",
       "      <td>0.524225</td>\n",
       "      <td>-0.245144</td>\n",
       "      <td>0.489665</td>\n",
       "      <td>0.003526</td>\n",
       "    </tr>\n",
       "    <tr>\n",
       "      <th>waterfront</th>\n",
       "      <td>0.265969</td>\n",
       "      <td>0.000061</td>\n",
       "      <td>0.064626</td>\n",
       "      <td>0.106039</td>\n",
       "      <td>0.021211</td>\n",
       "      <td>0.020307</td>\n",
       "      <td>1.000000</td>\n",
       "      <td>0.016728</td>\n",
       "      <td>0.083602</td>\n",
       "      <td>0.072201</td>\n",
       "      <td>0.084949</td>\n",
       "      <td>-0.023843</td>\n",
       "      <td>0.070231</td>\n",
       "    </tr>\n",
       "    <tr>\n",
       "      <th>condition</th>\n",
       "      <td>0.035290</td>\n",
       "      <td>0.025710</td>\n",
       "      <td>-0.128015</td>\n",
       "      <td>-0.061294</td>\n",
       "      <td>-0.009671</td>\n",
       "      <td>-0.264280</td>\n",
       "      <td>0.016728</td>\n",
       "      <td>1.000000</td>\n",
       "      <td>-0.148508</td>\n",
       "      <td>-0.159289</td>\n",
       "      <td>0.170972</td>\n",
       "      <td>-0.362107</td>\n",
       "      <td>-0.056205</td>\n",
       "    </tr>\n",
       "    <tr>\n",
       "      <th>grade</th>\n",
       "      <td>0.667738</td>\n",
       "      <td>0.356882</td>\n",
       "      <td>0.666493</td>\n",
       "      <td>0.763101</td>\n",
       "      <td>0.113402</td>\n",
       "      <td>0.459214</td>\n",
       "      <td>0.083602</td>\n",
       "      <td>-0.148508</td>\n",
       "      <td>1.000000</td>\n",
       "      <td>0.756382</td>\n",
       "      <td>0.168023</td>\n",
       "      <td>0.448120</td>\n",
       "      <td>0.015882</td>\n",
       "    </tr>\n",
       "    <tr>\n",
       "      <th>sqft_above</th>\n",
       "      <td>0.605143</td>\n",
       "      <td>0.479210</td>\n",
       "      <td>0.686456</td>\n",
       "      <td>0.876678</td>\n",
       "      <td>0.183461</td>\n",
       "      <td>0.524225</td>\n",
       "      <td>0.072201</td>\n",
       "      <td>-0.159289</td>\n",
       "      <td>0.756382</td>\n",
       "      <td>1.000000</td>\n",
       "      <td>-0.052293</td>\n",
       "      <td>0.425180</td>\n",
       "      <td>0.019535</td>\n",
       "    </tr>\n",
       "    <tr>\n",
       "      <th>sqft_basement</th>\n",
       "      <td>0.325008</td>\n",
       "      <td>0.302683</td>\n",
       "      <td>0.282693</td>\n",
       "      <td>0.434576</td>\n",
       "      <td>0.015533</td>\n",
       "      <td>-0.245144</td>\n",
       "      <td>0.084949</td>\n",
       "      <td>0.170972</td>\n",
       "      <td>0.168023</td>\n",
       "      <td>-0.052293</td>\n",
       "      <td>1.000000</td>\n",
       "      <td>-0.132844</td>\n",
       "      <td>0.067145</td>\n",
       "    </tr>\n",
       "    <tr>\n",
       "      <th>yr_built</th>\n",
       "      <td>0.054459</td>\n",
       "      <td>0.157017</td>\n",
       "      <td>0.508408</td>\n",
       "      <td>0.319461</td>\n",
       "      <td>0.052768</td>\n",
       "      <td>0.489665</td>\n",
       "      <td>-0.023843</td>\n",
       "      <td>-0.362107</td>\n",
       "      <td>0.448120</td>\n",
       "      <td>0.425180</td>\n",
       "      <td>-0.132844</td>\n",
       "      <td>1.000000</td>\n",
       "      <td>-0.200377</td>\n",
       "    </tr>\n",
       "    <tr>\n",
       "      <th>yr_renovated</th>\n",
       "      <td>0.116719</td>\n",
       "      <td>0.018452</td>\n",
       "      <td>0.047955</td>\n",
       "      <td>0.049964</td>\n",
       "      <td>0.004182</td>\n",
       "      <td>0.003526</td>\n",
       "      <td>0.070231</td>\n",
       "      <td>-0.056205</td>\n",
       "      <td>0.015882</td>\n",
       "      <td>0.019535</td>\n",
       "      <td>0.067145</td>\n",
       "      <td>-0.200377</td>\n",
       "      <td>1.000000</td>\n",
       "    </tr>\n",
       "  </tbody>\n",
       "</table>\n",
       "</div>"
      ],
      "text/plain": [
       "                  price  bedrooms  bathrooms  sqft_living  sqft_lot    floors  \\\n",
       "price          1.000000  0.309204   0.525889     0.702328  0.087937  0.256355   \n",
       "bedrooms       0.309204  1.000000   0.513840     0.577998  0.032262  0.179044   \n",
       "bathrooms      0.525889  0.513840   1.000000     0.755278  0.087884  0.504071   \n",
       "sqft_living    0.702328  0.577998   0.755278     1.000000  0.172941  0.354688   \n",
       "sqft_lot       0.087937  0.032262   0.087884     0.172941  1.000000 -0.007522   \n",
       "floors         0.256355  0.179044   0.504071     0.354688 -0.007522  1.000000   \n",
       "waterfront     0.265969  0.000061   0.064626     0.106039  0.021211  0.020307   \n",
       "condition      0.035290  0.025710  -0.128015    -0.061294 -0.009671 -0.264280   \n",
       "grade          0.667738  0.356882   0.666493     0.763101  0.113402  0.459214   \n",
       "sqft_above     0.605143  0.479210   0.686456     0.876678  0.183461  0.524225   \n",
       "sqft_basement  0.325008  0.302683   0.282693     0.434576  0.015533 -0.245144   \n",
       "yr_built       0.054459  0.157017   0.508408     0.319461  0.052768  0.489665   \n",
       "yr_renovated   0.116719  0.018452   0.047955     0.049964  0.004182  0.003526   \n",
       "\n",
       "               waterfront  condition     grade  sqft_above  sqft_basement  \\\n",
       "price            0.265969   0.035290  0.667738    0.605143       0.325008   \n",
       "bedrooms         0.000061   0.025710  0.356882    0.479210       0.302683   \n",
       "bathrooms        0.064626  -0.128015  0.666493    0.686456       0.282693   \n",
       "sqft_living      0.106039  -0.061294  0.763101    0.876678       0.434576   \n",
       "sqft_lot         0.021211  -0.009671  0.113402    0.183461       0.015533   \n",
       "floors           0.020307  -0.264280  0.459214    0.524225      -0.245144   \n",
       "waterfront       1.000000   0.016728  0.083602    0.072201       0.084949   \n",
       "condition        0.016728   1.000000 -0.148508   -0.159289       0.170972   \n",
       "grade            0.083602  -0.148508  1.000000    0.756382       0.168023   \n",
       "sqft_above       0.072201  -0.159289  0.756382    1.000000      -0.052293   \n",
       "sqft_basement    0.084949   0.170972  0.168023   -0.052293       1.000000   \n",
       "yr_built        -0.023843  -0.362107  0.448120    0.425180      -0.132844   \n",
       "yr_renovated     0.070231  -0.056205  0.015882    0.019535       0.067145   \n",
       "\n",
       "               yr_built  yr_renovated  \n",
       "price          0.054459      0.116719  \n",
       "bedrooms       0.157017      0.018452  \n",
       "bathrooms      0.508408      0.047955  \n",
       "sqft_living    0.319461      0.049964  \n",
       "sqft_lot       0.052768      0.004182  \n",
       "floors         0.489665      0.003526  \n",
       "waterfront    -0.023843      0.070231  \n",
       "condition     -0.362107     -0.056205  \n",
       "grade          0.448120      0.015882  \n",
       "sqft_above     0.425180      0.019535  \n",
       "sqft_basement -0.132844      0.067145  \n",
       "yr_built       1.000000     -0.200377  \n",
       "yr_renovated  -0.200377      1.000000  "
      ]
     },
     "execution_count": 182,
     "metadata": {},
     "output_type": "execute_result"
    }
   ],
   "source": [
    "df.corr()"
   ]
  },
  {
   "cell_type": "code",
   "execution_count": null,
   "metadata": {},
   "outputs": [],
   "source": []
  }
 ],
 "metadata": {
  "kernelspec": {
   "display_name": "learn-env",
   "language": "python",
   "name": "learn-env"
  },
  "language_info": {
   "codemirror_mode": {
    "name": "ipython",
    "version": 3
   },
   "file_extension": ".py",
   "mimetype": "text/x-python",
   "name": "python",
   "nbconvert_exporter": "python",
   "pygments_lexer": "ipython3",
   "version": "3.6.9"
  }
 },
 "nbformat": 4,
 "nbformat_minor": 4
}
